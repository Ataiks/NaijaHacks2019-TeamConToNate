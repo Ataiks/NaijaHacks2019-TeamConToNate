{
 "cells": [
  {
   "cell_type": "code",
   "execution_count": 29,
   "metadata": {},
   "outputs": [
    {
     "name": "stderr",
     "output_type": "stream",
     "text": [
      "/home/victor/anaconda3/lib/python3.6/re.py:212: FutureWarning: split() requires a non-empty pattern match.\n",
      "  return _compile(pattern, flags).split(string, maxsplit)\n"
     ]
    },
    {
     "name": "stdout",
     "output_type": "stream",
     "text": [
      "[('mo4president', Location(Nigeria, (9.6000359, 7.9999721, 0.0))), ('sodaibo', Location(Houston, Harris County, Texas, United States of America, (29.7589382, -95.3676974, 0.0)))]\n",
      "[('galileoeni', 'Kaggle Grand Baby')]\n"
     ]
    }
   ],
   "source": [
    "from urllib.request import urlopen\n",
    "from bs4 import BeautifulSoup\n",
    "import re\n",
    "from geopy.geocoders import Nominatim\n",
    "geolocator = Nominatim(user_agent='my-application')\n",
    "from geopy.exc import GeocoderTimedOut\n",
    "URL_INIT = 'https://twitter.com/'\n",
    "\n",
    "#list_of_users --> From all scraped tweets, get a set of unique usernames and put them in this list. \n",
    "\n",
    "list_of_users = ['temieinstein', 'mo4president', 'sodaibo', 'LordGhostX', 'galileoeni']\n",
    " \n",
    "#The located userlocations are appended to this list\n",
    "list_of_found_userlocations = []\n",
    "\n",
    " \n",
    "#The not located userlocations are appended to this list.\n",
    "#Maybe they contain some typo or something else like that.\n",
    "list_of_nonfound_userlocations = []\n",
    "\n",
    "def parse_url(tweet_user):\n",
    "    url = URL_INIT+ tweet_user.strip('@')\n",
    "    return url\n",
    "\n",
    "for user in list_of_users:\n",
    "    try:\n",
    "        url = parse_url(user)\n",
    "        response = urlopen(url)\n",
    "    except:\n",
    "        continue\n",
    "    html = response.read()\n",
    "    soup = BeautifulSoup(html, features=\"lxml\")\n",
    "    location = soup.find('span','ProfileHeaderCard-locationText').text.strip('\\n').strip()\n",
    "    if location:\n",
    "        if ',' in location:\n",
    "            splitted_location = location.split(',')\n",
    "        else:\n",
    "            splitted_location = re.split('|;|-|/|°|#', location)\n",
    "        try:\n",
    "            if splitted_location:\n",
    "                located_location = geolocator.geocode(splitted_location[0], timeout=100)\n",
    "            else:\n",
    "                located_location = geolocator.geocode(location, timeout=100)\n",
    "            if located_location:\n",
    "                user_plus_location = (user, located_location)\n",
    "                list_of_found_userlocations.append(user_plus_location)\n",
    "            else:\n",
    "                user_plus_incorrect_location = (user, location)\n",
    "                list_of_nonfound_userlocations.append(user_plus_incorrect_location)\n",
    "        except GeocoderTimedOut as e:\n",
    "            print(\"Error: geocode failed on input %s with message %s\"%(location, e))\n",
    "\n",
    "print(list_of_found_userlocations)\n",
    "print(list_of_nonfound_userlocations)\n"
   ]
  },
  {
   "cell_type": "code",
   "execution_count": 22,
   "metadata": {},
   "outputs": [
    {
     "data": {
      "text/plain": [
       "[('galileoeni', 'Kaggle Grand Baby')]"
      ]
     },
     "execution_count": 22,
     "metadata": {},
     "output_type": "execute_result"
    }
   ],
   "source": [
    "list_of_nonfound_userlocations"
   ]
  },
  {
   "cell_type": "code",
   "execution_count": 3,
   "metadata": {},
   "outputs": [
    {
     "data": {
      "text/plain": [
       "['temieinstein', 'mo4president', 'sodaibo', 'LordGhostX', 'galileoeni']"
      ]
     },
     "execution_count": 3,
     "metadata": {},
     "output_type": "execute_result"
    }
   ],
   "source": [
    "list_of_users"
   ]
  },
  {
   "cell_type": "code",
   "execution_count": 4,
   "metadata": {},
   "outputs": [
    {
     "data": {
      "text/plain": [
       "[('mo4president', Location(Nigeria, (9.6000359, 7.9999721, 0.0))),\n",
       " ('sodaibo',\n",
       "  Location(Houston, Harris County, Texas, United States of America, (29.7589382, -95.3676974, 0.0)))]"
      ]
     },
     "execution_count": 4,
     "metadata": {},
     "output_type": "execute_result"
    }
   ],
   "source": [
    "list_of_found_userlocations"
   ]
  },
  {
   "cell_type": "code",
   "execution_count": 5,
   "metadata": {},
   "outputs": [],
   "source": [
    "address = list_of_found_userlocations[-1][1][0]"
   ]
  },
  {
   "cell_type": "code",
   "execution_count": 6,
   "metadata": {},
   "outputs": [],
   "source": [
    "coords = list_of_found_userlocations[-1][1][1]"
   ]
  },
  {
   "cell_type": "code",
   "execution_count": 7,
   "metadata": {},
   "outputs": [
    {
     "data": {
      "text/plain": [
       "('Houston, Harris County, Texas, United States of America',\n",
       " (29.7589382, -95.3676974))"
      ]
     },
     "execution_count": 7,
     "metadata": {},
     "output_type": "execute_result"
    }
   ],
   "source": [
    "address, coords"
   ]
  },
  {
   "cell_type": "code",
   "execution_count": 8,
   "metadata": {},
   "outputs": [],
   "source": [
    "address = []\n",
    "coords = []\n",
    "\n",
    "for i in list_of_found_userlocations:\n",
    "    address.append(i[1][0])\n",
    "    coords.append(i[1][1])"
   ]
  },
  {
   "cell_type": "code",
   "execution_count": 9,
   "metadata": {},
   "outputs": [
    {
     "data": {
      "text/plain": [
       "['Nigeria', 'Houston, Harris County, Texas, United States of America']"
      ]
     },
     "execution_count": 9,
     "metadata": {},
     "output_type": "execute_result"
    }
   ],
   "source": [
    "address"
   ]
  },
  {
   "cell_type": "code",
   "execution_count": 10,
   "metadata": {},
   "outputs": [
    {
     "data": {
      "text/plain": [
       "[(9.6000359, 7.9999721), (29.7589382, -95.3676974)]"
      ]
     },
     "execution_count": 10,
     "metadata": {},
     "output_type": "execute_result"
    }
   ],
   "source": [
    "coords"
   ]
  },
  {
   "cell_type": "code",
   "execution_count": 18,
   "metadata": {},
   "outputs": [
    {
     "data": {
      "text/html": [
       "<div>\n",
       "<style scoped>\n",
       "    .dataframe tbody tr th:only-of-type {\n",
       "        vertical-align: middle;\n",
       "    }\n",
       "\n",
       "    .dataframe tbody tr th {\n",
       "        vertical-align: top;\n",
       "    }\n",
       "\n",
       "    .dataframe thead th {\n",
       "        text-align: right;\n",
       "    }\n",
       "</style>\n",
       "<table border=\"1\" class=\"dataframe\">\n",
       "  <thead>\n",
       "    <tr style=\"text-align: right;\">\n",
       "      <th></th>\n",
       "      <th>0</th>\n",
       "      <th>1</th>\n",
       "    </tr>\n",
       "  </thead>\n",
       "  <tbody>\n",
       "    <tr>\n",
       "      <td>0</td>\n",
       "      <td>9.600036</td>\n",
       "      <td>7.999972</td>\n",
       "    </tr>\n",
       "    <tr>\n",
       "      <td>1</td>\n",
       "      <td>29.758938</td>\n",
       "      <td>-95.367697</td>\n",
       "    </tr>\n",
       "  </tbody>\n",
       "</table>\n",
       "</div>"
      ],
      "text/plain": [
       "           0          1\n",
       "0   9.600036   7.999972\n",
       "1  29.758938 -95.367697"
      ]
     },
     "execution_count": 18,
     "metadata": {},
     "output_type": "execute_result"
    }
   ],
   "source": [
    "import pandas as pd\n",
    "\n",
    "pd.DataFrame(coords)"
   ]
  },
  {
   "cell_type": "code",
   "execution_count": 19,
   "metadata": {},
   "outputs": [
    {
     "data": {
      "text/plain": [
       "5"
      ]
     },
     "execution_count": 19,
     "metadata": {},
     "output_type": "execute_result"
    }
   ],
   "source": [
    "count = 0\n",
    "len(list_of_users)"
   ]
  },
  {
   "cell_type": "code",
   "execution_count": 1,
   "metadata": {},
   "outputs": [
    {
     "name": "stdout",
     "output_type": "stream",
     "text": [
      ";sfg\n"
     ]
    }
   ],
   "source": [
    "print(';sfg')"
   ]
  }
 ],
 "metadata": {
  "kernelspec": {
   "display_name": "Python 3",
   "language": "python",
   "name": "python3"
  },
  "language_info": {
   "codemirror_mode": {
    "name": "ipython",
    "version": 3
   },
   "file_extension": ".py",
   "mimetype": "text/x-python",
   "name": "python",
   "nbconvert_exporter": "python",
   "pygments_lexer": "ipython3",
   "version": "3.7.5"
  }
 },
 "nbformat": 4,
 "nbformat_minor": 2
}
